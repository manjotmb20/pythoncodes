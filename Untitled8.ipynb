{
  "nbformat": 4,
  "nbformat_minor": 0,
  "metadata": {
    "colab": {
      "name": "Untitled8.ipynb",
      "version": "0.3.2",
      "provenance": [],
      "collapsed_sections": [],
      "include_colab_link": true
    },
    "kernelspec": {
      "name": "python2",
      "display_name": "Python 2"
    }
  },
  "cells": [
    {
      "cell_type": "markdown",
      "metadata": {
        "id": "view-in-github",
        "colab_type": "text"
      },
      "source": [
        "<a href=\"https://colab.research.google.com/github/manjotmb20/pythoncodes/blob/master/Untitled8.ipynb\" target=\"_parent\"><img src=\"https://colab.research.google.com/assets/colab-badge.svg\" alt=\"Open In Colab\"/></a>"
      ]
    },
    {
      "cell_type": "code",
      "metadata": {
        "id": "0xfTbSTx-Etz",
        "colab_type": "code",
        "colab": {
          "base_uri": "https://localhost:8080/",
          "height": 299
        },
        "outputId": "bd71bf37-e799-4219-c16b-4b925808cd69"
      },
      "source": [
        "import datefinder"
      ],
      "execution_count": 1,
      "outputs": [
        {
          "output_type": "error",
          "ename": "ImportError",
          "evalue": "ignored",
          "traceback": [
            "\u001b[0;31m\u001b[0m",
            "\u001b[0;31mImportError\u001b[0mTraceback (most recent call last)",
            "\u001b[0;32m<ipython-input-1-92bb3755582f>\u001b[0m in \u001b[0;36m<module>\u001b[0;34m()\u001b[0m\n\u001b[0;32m----> 1\u001b[0;31m \u001b[0;32mimport\u001b[0m \u001b[0mdatefinder\u001b[0m\u001b[0;34m\u001b[0m\u001b[0m\n\u001b[0m",
            "\u001b[0;31mImportError\u001b[0m: No module named datefinder",
            "",
            "\u001b[0;31m---------------------------------------------------------------------------\u001b[0;32m\nNOTE: If your import is failing due to a missing package, you can\nmanually install dependencies using either !pip or !apt.\n\nTo view examples of installing some common dependencies, click the\n\"Open Examples\" button below.\n\u001b[0;31m---------------------------------------------------------------------------\u001b[0m\n"
          ]
        }
      ]
    },
    {
      "cell_type": "code",
      "metadata": {
        "id": "OQBwLutV-G00",
        "colab_type": "code",
        "colab": {}
      },
      "source": [
        ""
      ],
      "execution_count": 0,
      "outputs": []
    },
    {
      "cell_type": "code",
      "metadata": {
        "id": "UaOlmcyZ-NHh",
        "colab_type": "code",
        "colab": {
          "base_uri": "https://localhost:8080/",
          "height": 153
        },
        "outputId": "e02ed15d-1b91-4623-8c54-97bd53c15085"
      },
      "source": [
        "pip install datefinder"
      ],
      "execution_count": 2,
      "outputs": [
        {
          "output_type": "stream",
          "text": [
            "Collecting datefinder\n",
            "  Downloading https://files.pythonhosted.org/packages/16/2b/af8efaee30c0ba4238cb4d0645a07100d33d11d20a8783c443ed8b813eb9/datefinder-0.7.0-py2.py3-none-any.whl\n",
            "Requirement already satisfied: pytz in /usr/local/lib/python2.7/dist-packages (from datefinder) (2018.9)\n",
            "Requirement already satisfied: python-dateutil>=2.4.2 in /usr/local/lib/python2.7/dist-packages (from datefinder) (2.5.3)\n",
            "Requirement already satisfied: regex>=2017.02.08 in /usr/local/lib/python2.7/dist-packages (from datefinder) (2018.1.10)\n",
            "Requirement already satisfied: six>=1.5 in /usr/local/lib/python2.7/dist-packages (from python-dateutil>=2.4.2->datefinder) (1.12.0)\n",
            "Installing collected packages: datefinder\n",
            "Successfully installed datefinder-0.7.0\n"
          ],
          "name": "stdout"
        }
      ]
    },
    {
      "cell_type": "code",
      "metadata": {
        "id": "BVmOyAQ4-Po6",
        "colab_type": "code",
        "colab": {}
      },
      "source": [
        "import datefinder\n"
      ],
      "execution_count": 0,
      "outputs": []
    },
    {
      "cell_type": "code",
      "metadata": {
        "id": "2BBd9Iij-V7z",
        "colab_type": "code",
        "colab": {
          "base_uri": "https://localhost:8080/",
          "height": 34
        },
        "outputId": "dc2987f6-6251-4161-c9c5-0f81e6da6134"
      },
      "source": [
        "string=raw_input(\"Enter the string to be processed\")"
      ],
      "execution_count": 28,
      "outputs": [
        {
          "output_type": "stream",
          "text": [
            "Enter the string to be processedI will meet you at 5pm in Bangalore\n"
          ],
          "name": "stdout"
        }
      ]
    },
    {
      "cell_type": "code",
      "metadata": {
        "id": "hlFLFEKD-rIm",
        "colab_type": "code",
        "colab": {}
      },
      "source": [
        "string=\"I will meet you at 5pm in Bangalore\"\n"
      ],
      "execution_count": 0,
      "outputs": []
    },
    {
      "cell_type": "code",
      "metadata": {
        "id": "JxmCp8xG-3ip",
        "colab_type": "code",
        "colab": {}
      },
      "source": [
        "matches=datefinder.find_dates(string)"
      ],
      "execution_count": 0,
      "outputs": []
    },
    {
      "cell_type": "code",
      "metadata": {
        "id": "NkU9BaKV_CRw",
        "colab_type": "code",
        "colab": {
          "base_uri": "https://localhost:8080/",
          "height": 34
        },
        "outputId": "c55259a6-190b-43a5-8e9e-95f35f17cb5c"
      },
      "source": [
        "matches"
      ],
      "execution_count": 7,
      "outputs": [
        {
          "output_type": "execute_result",
          "data": {
            "text/plain": [
              "<generator object find_dates at 0x7f23bc465dc0>"
            ]
          },
          "metadata": {
            "tags": []
          },
          "execution_count": 7
        }
      ]
    },
    {
      "cell_type": "code",
      "metadata": {
        "id": "wE0KANpE_DTA",
        "colab_type": "code",
        "colab": {
          "base_uri": "https://localhost:8080/",
          "height": 68
        },
        "outputId": "e94fa5bb-78a8-4d64-951e-6aeb939df514"
      },
      "source": [
        "nltk.download('punkt')"
      ],
      "execution_count": 87,
      "outputs": [
        {
          "output_type": "stream",
          "text": [
            "[nltk_data] Downloading package punkt to /root/nltk_data...\n",
            "[nltk_data]   Unzipping tokenizers/punkt.zip.\n"
          ],
          "name": "stdout"
        },
        {
          "output_type": "execute_result",
          "data": {
            "text/plain": [
              "True"
            ]
          },
          "metadata": {
            "tags": []
          },
          "execution_count": 87
        }
      ]
    },
    {
      "cell_type": "code",
      "metadata": {
        "id": "olvNo_dCQDnl",
        "colab_type": "code",
        "colab": {
          "base_uri": "https://localhost:8080/",
          "height": 68
        },
        "outputId": "09cffc71-71ce-4016-d278-b0fec6aaf741"
      },
      "source": [
        "nltk.download('words')"
      ],
      "execution_count": 105,
      "outputs": [
        {
          "output_type": "stream",
          "text": [
            "[nltk_data] Downloading package words to /root/nltk_data...\n",
            "[nltk_data]   Unzipping corpora/words.zip.\n"
          ],
          "name": "stdout"
        },
        {
          "output_type": "execute_result",
          "data": {
            "text/plain": [
              "True"
            ]
          },
          "metadata": {
            "tags": []
          },
          "execution_count": 105
        }
      ]
    },
    {
      "cell_type": "code",
      "metadata": {
        "id": "i8gT15jaP9QU",
        "colab_type": "code",
        "colab": {
          "base_uri": "https://localhost:8080/",
          "height": 85
        },
        "outputId": "5c636a58-a783-4733-ca0a-0144fdbed84d"
      },
      "source": [
        "nltk.download('averaged_perceptron_tagger')"
      ],
      "execution_count": 103,
      "outputs": [
        {
          "output_type": "stream",
          "text": [
            "[nltk_data] Downloading package averaged_perceptron_tagger to\n",
            "[nltk_data]     /root/nltk_data...\n",
            "[nltk_data]   Unzipping taggers/averaged_perceptron_tagger.zip.\n"
          ],
          "name": "stdout"
        },
        {
          "output_type": "execute_result",
          "data": {
            "text/plain": [
              "True"
            ]
          },
          "metadata": {
            "tags": []
          },
          "execution_count": 103
        }
      ]
    },
    {
      "cell_type": "code",
      "metadata": {
        "id": "ZQnu3ae-OtpG",
        "colab_type": "code",
        "colab": {
          "base_uri": "https://localhost:8080/",
          "height": 85
        },
        "outputId": "3735b29d-6d42-48d2-8899-6fa95c93bc56"
      },
      "source": [
        "nltk.download('maxent_ne_chunker')"
      ],
      "execution_count": 94,
      "outputs": [
        {
          "output_type": "stream",
          "text": [
            "[nltk_data] Downloading package maxent_ne_chunker to\n",
            "[nltk_data]     /root/nltk_data...\n",
            "[nltk_data]   Unzipping chunkers/maxent_ne_chunker.zip.\n"
          ],
          "name": "stdout"
        },
        {
          "output_type": "execute_result",
          "data": {
            "text/plain": [
              "True"
            ]
          },
          "metadata": {
            "tags": []
          },
          "execution_count": 94
        }
      ]
    },
    {
      "cell_type": "code",
      "metadata": {
        "id": "9AB3kW5iC3nw",
        "colab_type": "code",
        "colab": {}
      },
      "source": [
        "import calendar\n",
        "import time\n",
        "import nltk"
      ],
      "execution_count": 0,
      "outputs": []
    },
    {
      "cell_type": "code",
      "metadata": {
        "id": "xA-LduNZSupT",
        "colab_type": "code",
        "colab": {
          "base_uri": "https://localhost:8080/",
          "height": 34
        },
        "outputId": "f10578e3-a265-420e-d181-c493944524c1"
      },
      "source": [
        "from nltk import ne_chunk, pos_tag, word_tokenize\n",
        "from nltk.tree import Tree\n",
        " \n",
        "def get_continuous_chunks(text):\n",
        "  chunked = ne_chunk(pos_tag(word_tokenize(text)))\n",
        "  continuous_chunk = []\n",
        "  current_chunk = []\n",
        "  for i in chunked:\n",
        "    if type(i) == Tree:\n",
        "      current_chunk.append(\" \".join([token for token, pos in i.leaves()]))\n",
        "    elif current_chunk:\n",
        "      named_entity = \" \".join(current_chunk)\n",
        "      if named_entity not in continuous_chunk:\n",
        "        continuous_chunk.append(named_entity)\n",
        "        current_chunk = []\n",
        "    else:\n",
        "      continue\n",
        "  return continuous_chunk\n"
      ],
      "execution_count": 114,
      "outputs": [
        {
          "output_type": "execute_result",
          "data": {
            "text/plain": [
              "['WASHINGTON', 'New York', 'Loretta E. Lynch', 'Brooklyn']"
            ]
          },
          "metadata": {
            "tags": []
          },
          "execution_count": 114
        }
      ]
    },
    {
      "cell_type": "code",
      "metadata": {
        "id": "bwtHeirR_Rzo",
        "colab_type": "code",
        "colab": {
          "base_uri": "https://localhost:8080/",
          "height": 85
        },
        "outputId": "f927160b-5522-49e2-ab6e-108d34de9bff"
      },
      "source": [
        "string=\"I will meet you at 5:30 am in Bangalore and Delhi and New Delhi will be good \"\n",
        "sentences=nltk.sent_tokenize(string)\n",
        "sentence=nltk.word_tokenize(string)\n",
        "c=get_continuous_chunks(string)\n",
        "print c\n",
        "matches=datefinder.find_dates(string)\n",
        "for match in matches:\n",
        "  print \"Date:\",match.day,calendar.month_name[match.month]\n",
        "  if match.hour>12:\n",
        "    print \"Time:\",match.hour-12,\":\",match.minute,\"pm\" \n",
        "  else:\n",
        "    print \"Time:\",match.hour,\":\",match.minute,\"am\"\n",
        "  print match\n",
        "  "
      ],
      "execution_count": 127,
      "outputs": [
        {
          "output_type": "stream",
          "text": [
            "['Bangalore', 'Delhi', 'New Delhi']\n",
            "Date: 23 May\n",
            "Time: 5 : 30 am\n",
            "2019-05-23 05:30:00\n"
          ],
          "name": "stdout"
        }
      ]
    },
    {
      "cell_type": "code",
      "metadata": {
        "id": "9j2EUzU-_b0Q",
        "colab_type": "code",
        "colab": {
          "base_uri": "https://localhost:8080/",
          "height": 34
        },
        "outputId": "d7f5e264-bca5-4f63-bb72-77da6c93e201"
      },
      "source": [
        "d=datetime.now()\n",
        "d\n",
        "\n"
      ],
      "execution_count": 74,
      "outputs": [
        {
          "output_type": "execute_result",
          "data": {
            "text/plain": [
              "datetime.datetime(2019, 5, 23, 5, 18, 18, 477864)"
            ]
          },
          "metadata": {
            "tags": []
          },
          "execution_count": 74
        }
      ]
    },
    {
      "cell_type": "code",
      "metadata": {
        "id": "2o_gf8aqResU",
        "colab_type": "code",
        "colab": {
          "base_uri": "https://localhost:8080/",
          "height": 34
        },
        "outputId": "80883229-604d-4133-90b0-ae02a4f28aec"
      },
      "source": [
        "from nltk import ne_chunk, pos_tag, word_tokenize\n",
        "from nltk.tree import Tree\n",
        " \n",
        "def get_continuous_chunks(text):\n",
        "  chunked = ne_chunk(pos_tag(word_tokenize(text)))\n",
        "  continuous_chunk = []\n",
        "  current_chunk = []\n",
        "  for i in chunked:\n",
        "    if type(i) == Tree:\n",
        "      current_chunk.append(\" \".join([token for token, pos in i.leaves()]))\n",
        "    elif current_chunk:\n",
        "      named_entity = \" \".join(current_chunk)\n",
        "      if named_entity not in continuous_chunk:\n",
        "        continuous_chunk.append(named_entity)\n",
        "        current_chunk = []\n",
        "    else:\n",
        "      continue\n",
        "  return continuous_chunk\n",
        "my_sent = \"WASHINGTON -- In the wake of a string of abuses by New York police officers in the 1990s, Loretta E. Lynch, the top federal prosecutor in Brooklyn, spoke forcefully about the pain of a broken trust that African-Americans felt and said the responsibility for repairing generations of miscommunication and mistrust fell to law enforcement.\"\n",
        "get_continuous_chunks(my_sent)"
      ],
      "execution_count": 111,
      "outputs": [
        {
          "output_type": "execute_result",
          "data": {
            "text/plain": [
              "['WASHINGTON', 'New York', 'Loretta E. Lynch', 'Brooklyn']"
            ]
          },
          "metadata": {
            "tags": []
          },
          "execution_count": 111
        }
      ]
    },
    {
      "cell_type": "code",
      "metadata": {
        "id": "ZQM9pfMeFT4c",
        "colab_type": "code",
        "colab": {}
      },
      "source": [
        "from datetime import datetime"
      ],
      "execution_count": 0,
      "outputs": []
    },
    {
      "cell_type": "code",
      "metadata": {
        "id": "oNXHi6oqFZTm",
        "colab_type": "code",
        "colab": {
          "base_uri": "https://localhost:8080/",
          "height": 34
        },
        "outputId": "70fb1d65-19f1-4ad8-9d0d-abdc977275d9"
      },
      "source": [
        "datetime.now()"
      ],
      "execution_count": 60,
      "outputs": [
        {
          "output_type": "execute_result",
          "data": {
            "text/plain": [
              "datetime.datetime(2019, 5, 23, 5, 6, 53, 612704)"
            ]
          },
          "metadata": {
            "tags": []
          },
          "execution_count": 60
        }
      ]
    },
    {
      "cell_type": "code",
      "metadata": {
        "id": "JTyBO7M1Fbs-",
        "colab_type": "code",
        "colab": {}
      },
      "source": [
        ""
      ],
      "execution_count": 0,
      "outputs": []
    }
  ]
}